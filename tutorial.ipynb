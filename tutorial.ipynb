{
 "cells": [
  {
   "cell_type": "markdown",
   "metadata": {},
   "source": [
    "# Finding Transits"
   ]
  },
  {
   "cell_type": "markdown",
   "metadata": {},
   "source": [
    "## Tutorial"
   ]
  },
  {
   "cell_type": "markdown",
   "metadata": {},
   "source": [
    "This code, to be run on the command line, was designed to find transits around young, rapidly rotating stars. The scripts `run.py` and `short_run.py` employ the package `transits` which contain the two classes `GetLC` and `FindTransits`. All together, the basic functionality of the code accomplishes the following:\n",
    "- loads in a normalized light curve with gaps in the data removed\n",
    "- performs initial detrending via Fast Fourier Transform which removes the rotation signal for rapid rotators\n",
    "- carries out the box-least squares method (BLS) on the FFT-detrended light curve to identify initial guesses for the period, time of mid-transit, depth, and duration of a transit\n",
    "- uses the BLS initial guesses to simultaneously build a transit model and Gaussian process model that detrends the initial light curve, prior to FFT-detrending"
   ]
  },
  {
   "cell_type": "markdown",
   "metadata": {},
   "source": [
    "### Making light curves"
   ]
  },
  {
   "cell_type": "markdown",
   "metadata": {},
   "source": [
    "To start, I first make a directory for each cluster of stars that I will analyze, containing the subdirectories:\n",
    "<br>\n",
    "`../data/` \n",
    "<br>\n",
    "`../figures/` \n",
    "<br>\n",
    "`../lc/` \n",
    "\n",
    "I move a txt file which contains the RA/DEC coordinates for each star into the project directory. I first make light curve FITS files by executing `make_lc.py` in `finding_transits` which uses the multi sector call from `eleanor`, setting `sectors=all`. These FITS files contain light curves with raw flux or corrected flux, but not psf flux. One can easily go into this script and change the `eleanor.TargetData` call to make the psf light curves if so desired.\n",
    "\n",
    "<br>\n",
    "In its general form, the call on the command line looks like:"
   ]
  },
  {
   "cell_type": "raw",
   "metadata": {},
   "source": [
    "python make_lc.py project_dir txt_file RA_col DEC_col"
   ]
  },
  {
   "cell_type": "markdown",
   "metadata": {},
   "source": [
    "where `project_dir` is the path to the project directory, `txt_file` is the text file containing the coordinates of the stars, and `RA_col` and `DEC_col` are integer values of the column number containing each coordinate"
   ]
  },
  {
   "cell_type": "markdown",
   "metadata": {},
   "source": [
    "For a specific example: "
   ]
  },
  {
   "cell_type": "raw",
   "metadata": {},
   "source": [
    "cd ~/finding_transits/"
   ]
  },
  {
   "cell_type": "raw",
   "metadata": {},
   "source": [
    "python make_lc.py /home/earleyn/columba/ Columba.txt 3 4"
   ]
  },
  {
   "cell_type": "markdown",
   "metadata": {},
   "source": [
    "### Searching for planets around all of the stars"
   ]
  },
  {
   "cell_type": "markdown",
   "metadata": {},
   "source": [
    "To do a complete planet search on all of the stars, I navigate to `~/finding_transits/script/` and type on the command line:"
   ]
  },
  {
   "cell_type": "raw",
   "metadata": {},
   "source": [
    "python run.py project_dir lc_type dtype backend"
   ]
  },
  {
   "cell_type": "markdown",
   "metadata": {},
   "source": [
    "I have to once again indicate the path to the project directory and now I specify three more arguments: `lc_type`, `dtype`, and `backend`\n",
    "\n",
    "`lc_type` corresponds to the type of light curves in which I want to search for transits. There are three possible options for `lc_type`: \n",
    " \n",
    "`do_corr` \n",
    "<br>\n",
    "`do_psf`\n",
    "<br>\n",
    "`do_raw`\n",
    " \n",
    "These calls correspond to working with corrected, psf, or raw light curves. If I am interested in working with raw or psf light curves, I make additional subdirectories in the cluster directory  `../psf_data/` and `../psf_figures/` or `../raw_data` and `../raw_figures`, which the relevant figures or data sets will be saved to. \n",
    "\n",
    " \n",
    "`dtype` corresponds to whether I want to load in my light curves by remaking them through calling the tic ID or by using the prexisting files which I made in the first step. There are two possible options for `dtype`: \n",
    " \n",
    "`use_files` \n",
    "<br>\n",
    "`use_tics`\n",
    " \n",
    " \n",
    "There are two possible options for `backend`: \n",
    " \n",
    "`default` \n",
    "<br>\n",
    "`Agg`"
   ]
  },
  {
   "cell_type": "markdown",
   "metadata": {},
   "source": [
    "As an example:"
   ]
  },
  {
   "cell_type": "raw",
   "metadata": {},
   "source": [
    "python run.py ~/columba/ do_corr use_files default"
   ]
  },
  {
   "cell_type": "markdown",
   "metadata": {},
   "source": [
    "### Running on one star "
   ]
  },
  {
   "cell_type": "markdown",
   "metadata": {},
   "source": [
    "To do a more tailored search on a single star, remaining in `~/finding_transits/script/`, the command line code looks like:"
   ]
  },
  {
   "cell_type": "raw",
   "metadata": {},
   "source": [
    "python short_run.py tic project_dir run_type lc_type dtype backend"
   ]
  },
  {
   "cell_type": "markdown",
   "metadata": {},
   "source": [
    "`tic` is the integer TIC ID for the star.\n",
    " \n",
    "`run_type` corresponds to the type of analysis I am interested in doing. There are three possible selections for `run_type`:\n",
    " \n",
    "-`run_all` \n",
    "<br>\n",
    "-`even_odd`\n",
    "<br>\n",
    "-`EB`\n",
    " \n",
    "`run_all` corresponds to the simple case of searching for a planet around the star. For each TIC ID, one transit model is built at a time. If the code determines that a planet is possibly in the light curve, it rebuilds another transit model with the previous transits masked until no more signals are found. When we execute `run.py` and perform a complete planet search, `run_all` is the default\n",
    "\n",
    " \n",
    "`even_odd` is used when I have already identified a candidate planet and I am prepared to run the even-odd test on the single TIC ID to vet the system. Specifying `even_odd` builds *two* transit models for the data: even and odd transits. If `even_odd` is specified, I make another subdirectory `../even_odd` in my project directory, which data and figures will be saved to. \n",
    " \n",
    " \n",
    "`EB` is used when I have already identified a possible eclipsing binary stellar system. The resulting code that is executed downstream is very similar to when `even_odd` is called since two \"transit\" models are being built: one for the primary eclipse and one for the secondary eclipse.\n",
    "    \n"
   ]
  },
  {
   "cell_type": "markdown",
   "metadata": {},
   "source": [
    "As an example:"
   ]
  },
  {
   "cell_type": "raw",
   "metadata": {},
   "source": [
    "python short_run.py 77951245 ~/columba/ even_odd do_corr use_tics default"
   ]
  },
  {
   "cell_type": "markdown",
   "metadata": {},
   "source": [
    "### Visually inspecting planet candidates"
   ]
  },
  {
   "cell_type": "markdown",
   "metadata": {},
   "source": [
    "In `~/finding_transits/`, I have also included a script `planets.py` to be used after a complete search which spits out the number of possible planetary systems, the number of TICs that were analyzed, and the list of TIC IDs that may host planets. To confirm whether a transit was indeed found, I manually go through all of the GP model figures corresponding to each of the possible TICs. \n",
    " \n",
    " As an example of the call:"
   ]
  },
  {
   "cell_type": "raw",
   "metadata": {},
   "source": [
    "cd ~/finding_transits/"
   ]
  },
  {
   "cell_type": "raw",
   "metadata": {},
   "source": [
    "python planets.py ~/columba/figures/"
   ]
  },
  {
   "cell_type": "markdown",
   "metadata": {},
   "source": [
    "### Working with data or figures"
   ]
  },
  {
   "cell_type": "markdown",
   "metadata": {},
   "source": [
    "For a simple planet search, after `run.py` or `short_run.py` are finished running, 9 figures are saved for a given \"run\" on a given light curve. These figures include:\n",
    "- normalized light curve (norm_lc)\n",
    "- lomb scargle periodogram prior to FFT-detrending (raw_lombscarg)\n",
    "- FFT \n",
    "- notch filter which removes the dominant rotation signal identified with FFT\n",
    "- lomb scargle periodogram after FFT-detrending (det_lombscarg)\n",
    "- normalized FFT-detrended light curve (det_lc)\n",
    "- folded light curve after BLS (box_plot)\n",
    "- GP model, GP-detrended light curve, and residuals (GPmodel_lc)\n",
    "- GP model, GP-detrended light curve, and residuals assuming no planet/signal is present in the light curve (no_pl_GPmodel_lc)"
   ]
  },
  {
   "cell_type": "markdown",
   "metadata": {},
   "source": [
    "Two sets of results are saved as pickle files: data and modeling_results"
   ]
  },
  {
   "cell_type": "code",
   "execution_count": 1,
   "metadata": {
    "collapsed": true
   },
   "outputs": [],
   "source": [
    "import pickle"
   ]
  },
  {
   "cell_type": "code",
   "execution_count": 2,
   "metadata": {
    "collapsed": true
   },
   "outputs": [],
   "source": [
    "path = '/Users/nicholasearley/TESS_data/columba/data/'"
   ]
  },
  {
   "cell_type": "code",
   "execution_count": 3,
   "metadata": {
    "collapsed": true
   },
   "outputs": [],
   "source": [
    "data = pickle.load(open(path+'data_tic77951245.p', 'rb'))\n",
    "model = pickle.load(open(path+'modeling_results_tic77951245.p', 'rb'))"
   ]
  },
  {
   "cell_type": "markdown",
   "metadata": {},
   "source": [
    "The run number corresponds to the step in the search for the transiting signal. The last listed run number associated with a TIC is ruled to be not a signal due to the small enough change in log likelihoods between the no planet model and the planet model for the given run. \n",
    "\n",
    " \n",
    "For example, there are two sets of results for each key in data and model. There may be a transiting signal in the results that correspond to run 0, but there is not a signal in the results corresponding to run 1. Note the delta log likelihood comparing planet models to no planet models for each run."
   ]
  },
  {
   "cell_type": "code",
   "execution_count": 4,
   "metadata": {},
   "outputs": [
    {
     "data": {
      "text/plain": [
       "{'Cadences': [array([10106., 10107., 10108., ..., 12601., 12602., 12603.]),\n",
       "  array([10106., 10107., 10108., ..., 12601., 12602., 12603.])],\n",
       " 'Normalized Error': [array([0.00140724, 0.00138686, 0.00136758, ..., 0.00208616, 0.00208736,\n",
       "         0.0020888 ]),\n",
       "  array([0.00140724, 0.00138686, 0.00136758, ..., 0.00208616, 0.00208736,\n",
       "         0.0020888 ])],\n",
       " 'Normalized Flux': [array([0.99921254, 0.99964456, 1.00042095, ..., 1.00505681, 1.00506741,\n",
       "         1.00344421]),\n",
       "  array([0.99921254, 0.99964456, 1.00042095, ..., 1.00505681, 1.00506741,\n",
       "         1.00344421])],\n",
       " 'Run': [0, 1],\n",
       " 'Time': [array([1438.0140859 , 1438.03495984, 1438.05583379, ..., 1489.99298411,\n",
       "         1490.01379702, 1490.03467096]),\n",
       "  array([1438.0140859 , 1438.03495984, 1438.05583379, ..., 1489.99298411,\n",
       "         1490.01379702, 1490.03467096])]}"
      ]
     },
     "execution_count": 4,
     "metadata": {},
     "output_type": "execute_result"
    }
   ],
   "source": [
    "data"
   ]
  },
  {
   "cell_type": "code",
   "execution_count": 5,
   "metadata": {},
   "outputs": [
    {
     "data": {
      "text/plain": [
       "{'BLS Depth': [0.0429974851929806, 0.013960679254426886],\n",
       " 'BLS Duration': [0.05, 0.2],\n",
       " 'BLS Period': [10.712204106484393, 13.40606257171378],\n",
       " 'BLS T0': [7.74, 3.605],\n",
       " 'Delta Log Likelihood': [1250.2942462232113, 1.6424413965960412],\n",
       " 'Masks of Outliers': [array([ True,  True,  True, ...,  True,  True,  True]),\n",
       "  array([ True,  True,  True, ...,  True,  True,  True])],\n",
       " 'No Planet Solns': [{'b': array(0.45),\n",
       "   'b_interval__': array(1.26147684e-08),\n",
       "   'ecc': array(0.22247843),\n",
       "   'ecc_interval__': array(-1.25126837),\n",
       "   'light_curves': array([[0.],\n",
       "          [0.],\n",
       "          [0.],\n",
       "          ...,\n",
       "          [0.],\n",
       "          [0.],\n",
       "          [0.]]),\n",
       "   'logP': array(2.37138366),\n",
       "   'logQ0': array(-7.935385),\n",
       "   'logamp': array(-11.13988952),\n",
       "   'logdeltaQ': array(-11.56563174),\n",
       "   'loglikelihood': array(9421.48888583),\n",
       "   'logr': array(-1.74418677),\n",
       "   'logr_interval__': array(0.62415367),\n",
       "   'logrotperiod': array(1.68985699),\n",
       "   'logs2': array(-18.71494442),\n",
       "   'm_star': array(1.09641059),\n",
       "   'm_star_interval__': array(-0.55169953),\n",
       "   'mean': array(0.99984865),\n",
       "   'mix': array(0.10711935),\n",
       "   'mix_interval__': array(-2.12050929),\n",
       "   'omega': array(1.57251114),\n",
       "   'omega_angle__': array([ 4.47212938, -0.00766888]),\n",
       "   'period': array(10.71220411),\n",
       "   'pred': array([-0.00052514, -0.00014322,  0.00035505, ...,  0.00392242,\n",
       "           0.00443047,  0.00360524]),\n",
       "   'r_pl': array(0.17478707),\n",
       "   'r_star': array(1.09797017),\n",
       "   'r_star_interval__': array(-0.54945847),\n",
       "   'ror': array(0.15919109),\n",
       "   'rotation_period': array(5.4187057),\n",
       "   't0': array(7.74),\n",
       "   'u_star': array([7.07105338e-01, 9.40255211e-07]),\n",
       "   'u_star_quadlimbdark__': array([-2.84330662e-06, -2.65944523e-06])},\n",
       "  {'b': array(0.45),\n",
       "   'b_interval__': array(2.54467444e-09),\n",
       "   'ecc': array(0.2224781),\n",
       "   'ecc_interval__': array(-1.2512703),\n",
       "   'light_curves': array([[0.],\n",
       "          [0.],\n",
       "          [0.],\n",
       "          ...,\n",
       "          [0.],\n",
       "          [0.],\n",
       "          [0.]]),\n",
       "   'logP': array(2.59570704),\n",
       "   'logQ0': array(0.36255759),\n",
       "   'logamp': array(-11.69240819),\n",
       "   'logdeltaQ': array(-0.75663835),\n",
       "   'loglikelihood': array(10701.68529242),\n",
       "   'logr': array(-2.15349765),\n",
       "   'logr_interval__': array(0.27899766),\n",
       "   'logrotperiod': array(1.76733272),\n",
       "   'logs2': array(-17.7736276),\n",
       "   'm_star': array(1.0945913),\n",
       "   'm_star_interval__': array(-0.55431547),\n",
       "   'mean': array(1.00014788),\n",
       "   'mix': array(0.26596982),\n",
       "   'mix_interval__': array(-1.01516728),\n",
       "   'omega': array(0.06672994),\n",
       "   'omega_angle__': array([0.29820394, 4.46218241]),\n",
       "   'period': array(13.40606257),\n",
       "   'pred': array([-7.29579119e-05, -8.94897505e-05, -1.05866471e-04, ...,\n",
       "           2.94299158e-03,  2.98069797e-03,  3.01573638e-03]),\n",
       "   'r_pl': array(0.11607745),\n",
       "   'r_star': array(1.10020237),\n",
       "   'r_star_interval__': array(-0.54625323),\n",
       "   'ror': array(0.10550554),\n",
       "   'rotation_period': array(5.85521503),\n",
       "   't0': array(3.605),\n",
       "   'u_star': array([7.07106787e-01, 1.77896501e-10]),\n",
       "   'u_star_quadlimbdark__': array([ 3.31478566e-08, -5.03167274e-10])}],\n",
       " 'Planet Solns': [{'b': array(0.76446663),\n",
       "   'b_interval__': array(1.7299605),\n",
       "   'ecc': array(0.59686726),\n",
       "   'ecc_interval__': array(0.39245367),\n",
       "   'light_curves': array([[0.],\n",
       "          [0.],\n",
       "          [0.],\n",
       "          ...,\n",
       "          [0.],\n",
       "          [0.],\n",
       "          [0.]]),\n",
       "   'logP': array(2.37160579),\n",
       "   'logQ0': array(-5.63406649),\n",
       "   'logamp': array(-11.470785),\n",
       "   'logdeltaQ': array(-0.13330111),\n",
       "   'loglikelihood': array(10671.78313205),\n",
       "   'logr': array(-1.28512453),\n",
       "   'logr_interval__': array(1.06148953),\n",
       "   'logrotperiod': array(1.59691312),\n",
       "   'logs2': array(-17.79362331),\n",
       "   'm_star': array(1.09640133),\n",
       "   'm_star_interval__': array(-0.55171284),\n",
       "   'mean': array(1.00015809),\n",
       "   'mix': array(0.02374924),\n",
       "   'mix_interval__': array(-3.716169),\n",
       "   'omega': array(1.57280867),\n",
       "   'omega_angle__': array([ 4.47212752, -0.00899948]),\n",
       "   'period': array(10.71458387),\n",
       "   'pred': array([-0.00023308, -0.00019619, -0.00014781, ...,  0.00299851,\n",
       "           0.0030535 ,  0.00308244]),\n",
       "   'r_pl': array(0.27661613),\n",
       "   'r_star': array(1.0979765),\n",
       "   'r_star_interval__': array(-0.54944937),\n",
       "   'ror': array(0.25193265),\n",
       "   'rotation_period': array(4.93776658),\n",
       "   't0': array(7.41482919),\n",
       "   'u_star': array([ 1.07815828, -0.24913975]),\n",
       "   'u_star_quadlimbdark__': array([0.78739506, 0.62019047])},\n",
       "  {'b': array(0.4857992),\n",
       "   'b_interval__': array(0.1594445),\n",
       "   'ecc': array(0.22249385),\n",
       "   'ecc_interval__': array(-1.25117921),\n",
       "   'light_curves': array([[0.],\n",
       "          [0.],\n",
       "          [0.],\n",
       "          ...,\n",
       "          [0.],\n",
       "          [0.],\n",
       "          [0.]]),\n",
       "   'logP': array(2.88402776),\n",
       "   'logQ0': array(0.41394792),\n",
       "   'logamp': array(-11.69483252),\n",
       "   'logdeltaQ': array(-0.94962254),\n",
       "   'loglikelihood': array(10703.32773381),\n",
       "   'logr': array(-3.43062095),\n",
       "   'logr_interval__': array(-0.78206125),\n",
       "   'logrotperiod': array(1.76532359),\n",
       "   'logs2': array(-17.79838589),\n",
       "   'm_star': array(1.09459135),\n",
       "   'm_star_interval__': array(-0.5543154),\n",
       "   'mean': array(1.00015103),\n",
       "   'mix': array(0.25903305),\n",
       "   'mix_interval__': array(-1.05100038),\n",
       "   'omega': array(0.23529748),\n",
       "   'omega_angle__': array([1.04259924, 4.34890644]),\n",
       "   'period': array(17.88616951),\n",
       "   'pred': array([-7.72301126e-05, -9.39278735e-05, -1.10440405e-04, ...,\n",
       "           2.93805402e-03,  2.97505808e-03,  3.00938231e-03]),\n",
       "   'r_pl': array(0.03236684),\n",
       "   'r_star': array(1.10103585),\n",
       "   'r_star_interval__': array(-0.54505714),\n",
       "   'ror': array(0.02939671),\n",
       "   'rotation_period': array(5.84346294),\n",
       "   't0': array(3.24572873),\n",
       "   'u_star': array([0.62987394, 0.04250993]),\n",
       "   'u_star_quadlimbdark__': array([-0.19218908, -0.12661431])}],\n",
       " 'Run': [0, 1]}"
      ]
     },
     "execution_count": 5,
     "metadata": {},
     "output_type": "execute_result"
    }
   ],
   "source": [
    "model"
   ]
  },
  {
   "cell_type": "code",
   "execution_count": 6,
   "metadata": {
    "collapsed": true
   },
   "outputs": [],
   "source": [
    "run = 0\n",
    "mask = model['Masks of Outliers'][run]\n",
    "time = data['Time'][run][mask]\n",
    "norm_flux = data['Normalized Flux'][run][mask]"
   ]
  },
  {
   "cell_type": "markdown",
   "metadata": {},
   "source": [
    "To find the GP model, we take the pred flux values found within Planet Solns and add them to the mean flux. To get the GP-detrended flux we subtract our GP fit from the normalized flux, with outliers masked. Here, I've added an offset of 1 to the detrended flux."
   ]
  },
  {
   "cell_type": "code",
   "execution_count": 7,
   "metadata": {
    "collapsed": true
   },
   "outputs": [],
   "source": [
    "gp_mod = model['Planet Solns'][run]['pred'] + model['Planet Solns'][run]['mean']\n",
    "det_flux = (data['Normalized Flux'][run][mask] - gp_mod)+1"
   ]
  },
  {
   "cell_type": "code",
   "execution_count": 8,
   "metadata": {
    "collapsed": true
   },
   "outputs": [],
   "source": [
    "import matplotlib.pyplot as plt"
   ]
  },
  {
   "cell_type": "markdown",
   "metadata": {},
   "source": [
    "You can easily see how the stellar variability from the rotator has been removed by the GP model"
   ]
  },
  {
   "cell_type": "code",
   "execution_count": 9,
   "metadata": {},
   "outputs": [
    {
     "data": {
      "image/png": "[encoded data removed]",
      "text/plain": [
       "<Figure size 720x504 with 2 Axes>"
      ]
     },
     "metadata": {},
     "output_type": "display_data"
    }
   ],
   "source": [
    "fig, axes = plt.subplots(2, 1, figsize=(10, 7), sharex=True)\n",
    "ax = axes[0]\n",
    "ax.plot(time, norm_flux, 'r', label='before detrending')\n",
    "ax.set_ylabel('Normalized Flux')\n",
    "ax.legend(loc=8)\n",
    "\n",
    "ax = axes[1]\n",
    "ax.plot(time, det_flux, 'g', label='after detrending')\n",
    "ax.set_ylabel('Normalized Detrended Flux')\n",
    "ax.legend(loc=8)\n",
    "\n",
    "plt.xlabel('Time')\n",
    "plt.show()"
   ]
  },
  {
   "cell_type": "code",
   "execution_count": 10,
   "metadata": {
    "collapsed": true
   },
   "outputs": [],
   "source": [
    "per = model['Planet Solns'][run]['period']\n",
    "t0 = model['Planet Solns'][run]['t0']"
   ]
  },
  {
   "cell_type": "code",
   "execution_count": 11,
   "metadata": {},
   "outputs": [
    {
     "name": "stdout",
     "output_type": "stream",
     "text": [
      "Period: 10.714583870776464\n",
      "Time of mid transit: 7.414829189899059\n"
     ]
    }
   ],
   "source": [
    "print(\"Period: {}\".format(per))\n",
    "print(\"Time of mid transit: {}\".format(t0))"
   ]
  },
  {
   "cell_type": "markdown",
   "metadata": {},
   "source": [
    "This 5% dip in flux tells us that this signal is too big to be a planet. This is an eclipsing binary! Either the secondary eclipse is of the same depth as the primary, in which case the true period of the system would be twice the printed value or we are only seeing primary eclipses."
   ]
  },
  {
   "cell_type": "code",
   "execution_count": null,
   "metadata": {
    "collapsed": true
   },
   "outputs": [],
   "source": []
  }
 ],
 "metadata": {
  "kernelspec": {
   "display_name": "Python 3",
   "language": "python",
   "name": "python3"
  },
  "language_info": {
   "codemirror_mode": {
    "name": "ipython",
    "version": 3
   },
   "file_extension": ".py",
   "mimetype": "text/x-python",
   "name": "python",
   "nbconvert_exporter": "python",
   "pygments_lexer": "ipython3",
   "version": "3.6.3"
  }
 },
 "nbformat": 4,
 "nbformat_minor": 2
}
